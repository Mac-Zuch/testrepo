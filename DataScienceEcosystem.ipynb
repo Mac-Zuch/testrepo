{
 "cells": [
  {
   "cell_type": "markdown",
   "id": "1a162463-c251-40dd-ac0d-934a69754372",
   "metadata": {},
   "source": [
    "## Data Science Tools and Ecosystem"
   ]
  },
  {
   "cell_type": "markdown",
   "id": "b46aac95-51f7-4e1f-8cb2-2d2689902506",
   "metadata": {},
   "source": [
    "In this notebook, Data Science Tools and Ecosystem are summarized."
   ]
  },
  {
   "cell_type": "code",
   "execution_count": 1,
   "id": "14a26524-034a-4df2-a7b6-9ba53a2f7a34",
   "metadata": {},
   "outputs": [
    {
     "name": "stdout",
     "output_type": "stream",
     "text": [
      "1. Python\n",
      "2. R\n",
      "3. SQL\n"
     ]
    }
   ],
   "source": [
    "ordered_list = [\"1. Python\", \"2. R\", \"3. SQL\"]\n",
    "for lang in ordered_list:\n",
    "    print(lang)"
   ]
  },
  {
   "cell_type": "markdown",
   "id": "9275691d-7ae0-4d05-95d8-1d7a16247cbe",
   "metadata": {},
   "source": [
    "Some of the commonly used libraries used by Data Scientists include:"
   ]
  },
  {
   "cell_type": "code",
   "execution_count": 2,
   "id": "b6bb8ce6-0b74-45fc-9b42-5cc0891f3952",
   "metadata": {},
   "outputs": [
    {
     "name": "stdout",
     "output_type": "stream",
     "text": [
      "1. Numpy\n",
      "2. Pandas\n",
      "3. Matplotlib\n"
     ]
    }
   ],
   "source": [
    "libraries = [\"1. Numpy\",\"2. Pandas\", \"3. Matplotlib\"]\n",
    "for lib in libraries:\n",
    "    print(lib)"
   ]
  },
  {
   "cell_type": "markdown",
   "id": "59cfa113-bca8-4438-8662-ee71978f4267",
   "metadata": {},
   "source": [
    "| Data Science Tools     |\n",
    "|------------------------|\n",
    "| Jupyter Notebook       |\n",
    "| RStudio                |\n",
    "| Apache Zeppelin        |"
   ]
  },
  {
   "cell_type": "markdown",
   "id": "f1dc22be-7e42-4a6c-b4ed-0fd8c8b7fdba",
   "metadata": {},
   "source": [
    "### Below are a few examples of evaluating arithmetic expressions in Python"
   ]
  },
  {
   "cell_type": "code",
   "execution_count": 3,
   "id": "8403d05a-0ea5-418a-a4cc-f3cb3c938c7f",
   "metadata": {},
   "outputs": [
    {
     "name": "stdout",
     "output_type": "stream",
     "text": [
      "17\n"
     ]
    }
   ],
   "source": [
    "# This a simple arithmetic expression to mutiply then add integers\n",
    "\n",
    "x = (3 * 4) + 5\n",
    "print(x)"
   ]
  },
  {
   "cell_type": "code",
   "execution_count": 4,
   "id": "d26b9fef-7af8-445b-8427-bf91048c637d",
   "metadata": {},
   "outputs": [
    {
     "name": "stdout",
     "output_type": "stream",
     "text": [
      "3.3333333333333335\n"
     ]
    }
   ],
   "source": [
    "# This will convert 200 minutes to hours by diving by 60\n",
    "min = 200\n",
    "min_in_hour = 60\n",
    "hours = min/min_in_hour\n",
    "print(hours)\n"
   ]
  },
  {
   "cell_type": "markdown",
   "id": "ccb5e133-8b50-4124-8c41-9fcb56368a00",
   "metadata": {},
   "source": [
    "**Objectives:**\n",
    "\n",
    "- List popular languages for Data Science  \n",
    "- Identify commonly used libraries in Data Science  \n",
    "- Create tables using Markdown and Python  \n",
    "- Understand open-source tools used in Data Science  \n",
    "- Evaluate arithmetic expressions in Python"
   ]
  },
  {
   "cell_type": "markdown",
   "id": "97e0f06a-38ac-49fa-ab0e-13dd3c86a7b4",
   "metadata": {},
   "source": [
    "## Author\n",
    "\n",
    "Zuqaqambe Ngomti"
   ]
  },
  {
   "cell_type": "code",
   "execution_count": null,
   "id": "3b400467-b554-4939-ac7d-45b1996f9fb0",
   "metadata": {},
   "outputs": [],
   "source": []
  }
 ],
 "metadata": {
  "kernelspec": {
   "display_name": "Python 3 (ipykernel)",
   "language": "python",
   "name": "python3"
  },
  "language_info": {
   "codemirror_mode": {
    "name": "ipython",
    "version": 3
   },
   "file_extension": ".py",
   "mimetype": "text/x-python",
   "name": "python",
   "nbconvert_exporter": "python",
   "pygments_lexer": "ipython3",
   "version": "3.12.4"
  }
 },
 "nbformat": 4,
 "nbformat_minor": 5
}
